{
 "cells": [
  {
   "cell_type": "code",
   "execution_count": 1,
   "metadata": {},
   "outputs": [],
   "source": [
    "import numpy as np\n",
    "from enviroment import *\n",
    "from action_value import *\n",
    "from policy import *\n",
    "from algorithms import *"
   ]
  },
  {
   "cell_type": "code",
   "execution_count": 2,
   "metadata": {},
   "outputs": [],
   "source": [
    "droga = Track(4, 4)\n",
    "droga.set_start((np.ones(2) * 3).astype(int), np.arange(2))\n",
    "droga.set_finish(np.arange(2), (np.ones(2) * 3).astype(int))\n",
    "droga.set_boundries_rectangle([2,4], [2,4])"
   ]
  },
  {
   "cell_type": "code",
   "execution_count": 3,
   "metadata": {},
   "outputs": [
    {
     "name": "stdout",
     "output_type": "stream",
     "text": [
      "Iteration: 0, seconds elapsed: 0.16\n",
      "Iteration: 1, seconds elapsed: 0.12\n",
      "Iteration: 2, seconds elapsed: 0.11\n",
      "Iteration: 3, seconds elapsed: 0.11\n",
      "Iteration: 4, seconds elapsed: 0.09\n",
      "Iteration: 5, seconds elapsed: 0.1\n",
      "Iteration: 6, seconds elapsed: 0.1\n",
      "Iteration: 7, seconds elapsed: 0.09\n",
      "Iteration: 8, seconds elapsed: 0.1\n",
      "Iteration: 9, seconds elapsed: 0.09\n"
     ]
    }
   ],
   "source": [
    "algo = OffPolicyMCControl(droga, n_iter = 10, behaviour_eps=0.01)\n",
    "algo.train()"
   ]
  },
  {
   "cell_type": "code",
   "execution_count": 4,
   "metadata": {},
   "outputs": [
    {
     "name": "stdout",
     "output_type": "stream",
     "text": [
      "[['X' 'X' 'X' ' ' ' ' ' ' ' ' ' ' ' ' ' ' ' ' ' ' ' ' ' ' ' ' ' ' '|']\n",
      " ['X' 'X' ' ' ' ' ' ' ' ' ' ' ' ' ' ' ' ' ' ' ' ' ' ' ' ' ' ' ' ' '|']\n",
      " ['X' 'X' ' ' ' ' ' ' ' ' ' ' ' ' ' ' ' ' ' ' ' ' ' ' ' ' ' ' ' ' '|']\n",
      " ['X' ' ' ' ' ' ' ' ' ' ' ' ' ' ' ' ' ' ' ' ' ' ' ' ' ' ' ' ' ' ' '|']\n",
      " [' ' ' ' ' ' ' ' ' ' ' ' ' ' ' ' ' ' ' ' ' ' ' ' ' ' ' ' ' ' ' ' '|']\n",
      " [' ' ' ' ' ' ' ' ' ' ' ' ' ' ' ' ' ' ' ' ' ' ' ' ' ' ' ' ' ' ' ' '|']\n",
      " [' ' ' ' ' ' ' ' ' ' ' ' ' ' ' ' ' ' ' ' 'X' 'X' 'X' 'X' 'X' 'X' 'X']\n",
      " [' ' ' ' ' ' ' ' ' ' ' ' ' ' ' ' ' ' 'X' 'X' 'X' 'X' 'X' 'X' 'X' 'X']\n",
      " [' ' ' ' ' ' ' ' ' ' ' ' ' ' ' ' ' ' 'X' 'X' 'X' 'X' 'X' 'X' 'X' 'X']\n",
      " [' ' ' ' ' ' ' ' ' ' ' ' ' ' ' ' ' ' 'X' 'X' 'X' 'X' 'X' 'X' 'X' 'X']\n",
      " [' ' ' ' ' ' ' ' ' ' ' ' ' ' ' ' ' ' 'X' 'X' 'X' 'X' 'X' 'X' 'X' 'X']\n",
      " [' ' ' ' ' ' ' ' ' ' ' ' ' ' ' ' ' ' 'X' 'X' 'X' 'X' 'X' 'X' 'X' 'X']\n",
      " [' ' ' ' ' ' ' ' ' ' ' ' ' ' ' ' ' ' 'X' 'X' 'X' 'X' 'X' 'X' 'X' 'X']\n",
      " [' ' ' ' ' ' ' ' ' ' ' ' ' ' ' ' ' ' 'X' 'X' 'X' 'X' 'X' 'X' 'X' 'X']\n",
      " ['X' ' ' ' ' ' ' ' ' ' ' ' ' ' ' ' ' 'X' 'X' 'X' 'X' 'X' 'X' 'X' 'X']\n",
      " ['X' ' ' ' ' ' ' ' ' ' ' ' ' ' ' ' ' 'X' 'X' 'X' 'X' 'X' 'X' 'X' 'X']\n",
      " ['X' ' ' ' ' ' ' ' ' ' ' ' ' ' ' ' ' 'X' 'X' 'X' 'X' 'X' 'X' 'X' 'X']\n",
      " ['X' ' ' ' ' ' ' ' ' ' ' ' ' ' ' ' ' 'X' 'X' 'X' 'X' 'X' 'X' 'X' 'X']\n",
      " ['X' ' ' ' ' ' ' ' ' ' ' ' ' ' ' ' ' 'X' 'X' 'X' 'X' 'X' 'X' 'X' 'X']\n",
      " ['X' ' ' ' ' ' ' ' ' ' ' ' ' ' ' ' ' 'X' 'X' 'X' 'X' 'X' 'X' 'X' 'X']\n",
      " ['X' ' ' ' ' ' ' ' ' ' ' ' ' ' ' ' ' 'X' 'X' 'X' 'X' 'X' 'X' 'X' 'X']\n",
      " ['X' ' ' ' ' ' ' ' ' ' ' ' ' ' ' ' ' 'X' 'X' 'X' 'X' 'X' 'X' 'X' 'X']\n",
      " ['X' 'X' ' ' ' ' ' ' ' ' ' ' ' ' ' ' 'X' 'X' 'X' 'X' 'X' 'X' 'X' 'X']\n",
      " ['X' 'X' ' ' ' ' ' ' ' ' ' ' ' ' ' ' 'X' 'X' 'X' 'X' 'X' 'X' 'X' 'X']\n",
      " ['X' 'X' ' ' ' ' ' ' ' ' ' ' ' ' ' ' 'X' 'X' 'X' 'X' 'X' 'X' 'X' 'X']\n",
      " ['X' 'X' ' ' ' ' ' ' ' ' ' ' ' ' ' ' 'X' 'X' 'X' 'X' 'X' 'X' 'X' 'X']\n",
      " ['X' 'X' ' ' ' ' ' ' ' ' ' ' ' ' ' ' 'X' 'X' 'X' 'X' 'X' 'X' 'X' 'X']\n",
      " ['X' 'X' ' ' ' ' ' ' ' ' ' ' ' ' ' ' 'X' 'X' 'X' 'X' 'X' 'X' 'X' 'X']\n",
      " ['X' 'X' ' ' ' ' ' ' ' ' ' ' ' ' ' ' 'X' 'X' 'X' 'X' 'X' 'X' 'X' 'X']\n",
      " ['X' 'X' 'X' ' ' ' ' ' ' ' ' ' ' ' ' 'X' 'X' 'X' 'X' 'X' 'X' 'X' 'X']\n",
      " ['X' 'X' 'X' ' ' ' ' ' ' ' ' ' ' ' ' 'X' 'X' 'X' 'X' 'X' 'X' 'X' 'X']\n",
      " ['X' 'X' 'X' '-' '-' '-' '-' '-' '-' 'X' 'X' 'X' 'X' 'X' 'X' 'X' 'X']]\n"
     ]
    }
   ],
   "source": [
    "track = Track(32, 17)\n",
    "track.set_start((np.ones(17) * 31).astype(int), np.arange(17))\n",
    "track.set_finish(np.arange(32), (np.ones(32) * 16).astype(int))\n",
    "track.set_boundries_rectangle([7,32], [9,17])\n",
    "track.set_boundries_rectangle([6,7], [10,17])\n",
    "\n",
    "track.set_boundries_rectangle([0,4], [0,1])\n",
    "track.set_boundries_rectangle([0,3], [1,2])\n",
    "track.set_boundries_rectangle([0,1], [2,3])\n",
    "\n",
    "track.set_boundries_rectangle([14,32], [0,1])\n",
    "track.set_boundries_rectangle([22,32], [1,2])\n",
    "track.set_boundries_rectangle([29,32], [2,3])\n",
    "\n",
    "track.set_boundries_rectangle([10,12], [10,17])\n",
    "\n",
    "print(track)"
   ]
  },
  {
   "cell_type": "code",
   "execution_count": 5,
   "metadata": {},
   "outputs": [
    {
     "name": "stdout",
     "output_type": "stream",
     "text": [
      "Iteration: 0, seconds elapsed: 2.74\n",
      "Iteration: 1, seconds elapsed: 2.81\n",
      "Iteration: 2, seconds elapsed: 2.88\n",
      "Iteration: 3, seconds elapsed: 2.86\n",
      "Iteration: 4, seconds elapsed: 2.78\n",
      "Iteration: 5, seconds elapsed: 2.69\n",
      "Iteration: 6, seconds elapsed: 2.65\n",
      "Iteration: 7, seconds elapsed: 2.64\n",
      "Iteration: 8, seconds elapsed: 2.77\n",
      "Iteration: 9, seconds elapsed: 2.77\n"
     ]
    }
   ],
   "source": [
    "algo = OffPolicyMCControl(track, n_iter = 10, behaviour_eps=0.08)\n",
    "algo.train()"
   ]
  }
 ],
 "metadata": {
  "kernelspec": {
   "display_name": "ReinforcementLearning",
   "language": "python",
   "name": "python3"
  },
  "language_info": {
   "codemirror_mode": {
    "name": "ipython",
    "version": 3
   },
   "file_extension": ".py",
   "mimetype": "text/x-python",
   "name": "python",
   "nbconvert_exporter": "python",
   "pygments_lexer": "ipython3",
   "version": "3.10.13"
  }
 },
 "nbformat": 4,
 "nbformat_minor": 2
}
